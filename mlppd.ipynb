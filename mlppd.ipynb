{
  "cells": [
    {
      "cell_type": "code",
      "execution_count": 1,
      "metadata": {
        "id": "HIn-QNyoHwOY"
      },
      "outputs": [],
      "source": [
        "import numpy as np\n",
        "import pickle\n",
        "import cv2\n",
        "import os\n",
        "import tensorflow\n",
        "from os import listdir\n",
        "from sklearn.preprocessing import LabelBinarizer\n",
        "from keras.models import Sequential\n",
        "from tensorflow.keras.layers import BatchNormalization\n",
        "from keras.layers.convolutional import Conv2D\n",
        "from keras.layers.convolutional import MaxPooling2D\n",
        "from keras.layers.core import Activation, Flatten, Dropout, Dense\n",
        "from keras import backend as K\n",
        "from keras.preprocessing.image import ImageDataGenerator\n",
        "from tensorflow.keras.optimizers import Adam\n",
        "from keras.preprocessing import image\n",
        "from keras.preprocessing.image import img_to_array\n",
        "from sklearn.preprocessing import MultiLabelBinarizer\n",
        "from sklearn.model_selection import train_test_split\n",
        "import matplotlib.pyplot as plt\n",
        "from google.colab import drive"
      ]
    },
    {
      "cell_type": "code",
      "execution_count": 2,
      "metadata": {
        "colab": {
          "base_uri": "https://localhost:8080/"
        },
        "id": "cllUENakIRvq",
        "outputId": "e296f53c-b35b-4b30-fd82-61d284d7b723"
      },
      "outputs": [
        {
          "output_type": "stream",
          "name": "stdout",
          "text": [
            "Mounted at /content/drive\n"
          ]
        }
      ],
      "source": [
        "drive.mount('/content/drive')"
      ]
    },
    {
      "cell_type": "code",
      "execution_count": 3,
      "metadata": {
        "id": "zswHHMqGIJAW"
      },
      "outputs": [],
      "source": [
        "epochs = 25\n",
        "initial_learning_rate = 1e-3\n",
        "batch_size = 32\n",
        "default_image_size = tuple((256, 256))\n",
        "image_size = 0\n",
        "directory_root = '/content/drive/My Drive/ML Plant Dataset/plantdisease_dataset'\n",
        "width=256\n",
        "height=256\n",
        "depth=3"
      ]
    },
    {
      "cell_type": "code",
      "execution_count": 4,
      "metadata": {
        "id": "tZswIZvpINym"
      },
      "outputs": [],
      "source": [
        "def convert_image_to_array(image_dir):\n",
        "    try:\n",
        "        image = cv2.imread(image_dir)\n",
        "        if image is not None :\n",
        "            image = cv2.resize(image, default_image_size)   \n",
        "            return img_to_array(image)\n",
        "        else :\n",
        "            return np.array([])\n",
        "    except Exception as e:\n",
        "        print(f\"Error : {e}\")\n",
        "        return None"
      ]
    },
    {
      "cell_type": "code",
      "execution_count": 5,
      "metadata": {
        "colab": {
          "base_uri": "https://localhost:8080/"
        },
        "id": "JGuv5wZmL_yX",
        "outputId": "70e28c87-514b-46ad-97bc-708f6a887fc3"
      },
      "outputs": [
        {
          "output_type": "execute_result",
          "data": {
            "text/plain": [
              "['PlantVillage']"
            ]
          },
          "metadata": {},
          "execution_count": 5
        }
      ],
      "source": [
        "listdir(directory_root)"
      ]
    },
    {
      "cell_type": "code",
      "execution_count": 6,
      "metadata": {
        "colab": {
          "base_uri": "https://localhost:8080/"
        },
        "id": "qmScNbwIMG-f",
        "outputId": "aa4e69ba-1301-4b5f-eb98-cb558173bcaf"
      },
      "outputs": [
        {
          "output_type": "stream",
          "name": "stdout",
          "text": [
            "Loading images ...\n",
            "Processing Tomato_Late_blight\n",
            "Processing Pepper__bell___healthy\n",
            "Processing Pepper__bell___Bacterial_spot\n",
            "Processing Potato___Late_blight\n",
            "Processing Tomato_Leaf_Mold\n",
            "Processing Tomato_Spider_mites_Two_spotted_spider_mite\n",
            "Processing Tomato__Tomato_mosaic_virus\n",
            "Processing Tomato_Septoria_leaf_spot\n",
            "Processing Tomato_Bacterial_spot\n",
            "Processing Potato___healthy\n",
            "Processing Tomato__Target_Spot\n",
            "Processing Tomato_healthy\n",
            "Processing Potato___Early_blight\n",
            "Processing Tomato_Early_blight\n",
            "Processing Tomato__Tomato_YellowLeaf__Curl_Virus\n",
            "Image loading completed\n"
          ]
        }
      ],
      "source": [
        "image_list, label_list = [], []\n",
        "try:\n",
        "    print(\"Loading images ...\")\n",
        "    root_dir = listdir(directory_root)\n",
        "    for directory in root_dir :\n",
        "        # remove .DS_Store from list\n",
        "        if directory == \".DS_Store\" :\n",
        "            root_dir.remove(directory)\n",
        "\n",
        "    for plant_folder in root_dir :\n",
        "        plant_disease_folder_list = listdir(f\"{directory_root}/{plant_folder}\")\n",
        "        \n",
        "        for disease_folder in plant_disease_folder_list :\n",
        "            # remove .DS_Store from list\n",
        "            if disease_folder == \".DS_Store\" :\n",
        "                plant_disease_folder_list.remove(disease_folder)\n",
        "\n",
        "        for plant_disease_folder in plant_disease_folder_list:\n",
        "            print(f\"Processing {plant_disease_folder}\")\n",
        "            plant_disease_image_list = listdir(f\"{directory_root}/{plant_folder}/{plant_disease_folder}\")\n",
        "           \n",
        "                \n",
        "            for single_plant_disease_image in plant_disease_image_list :\n",
        "                if single_plant_disease_image == \".DS_Store\" :\n",
        "                    plant_disease_image_list.remove(single_plant_disease_image)\n",
        "\n",
        "            for image in plant_disease_image_list[:200]:\n",
        "                image_directory = f\"{directory_root}/{plant_folder}/{plant_disease_folder}/{image}\"\n",
        "                if image_directory.endswith(\".jpg\") == True or image_directory.endswith(\".JPG\") == True:\n",
        "                    image_list.append(convert_image_to_array(image_directory))\n",
        "                    label_list.append(plant_disease_folder)\n",
        "    print(\"Image loading completed\")  \n",
        "except Exception as e:\n",
        "    print(f\"Error : {e}\")"
      ]
    },
    {
      "cell_type": "code",
      "execution_count": 7,
      "metadata": {
        "colab": {
          "base_uri": "https://localhost:8080/"
        },
        "id": "L_QS_bk4kzsT",
        "outputId": "1011b393-7674-4d57-953c-c24e9e6bc29c"
      },
      "outputs": [
        {
          "output_type": "execute_result",
          "data": {
            "text/plain": [
              "15"
            ]
          },
          "metadata": {},
          "execution_count": 7
        }
      ],
      "source": [
        "label_binarizer = LabelBinarizer()\n",
        "image_labels = label_binarizer.fit_transform(label_list)\n",
        "pickle.dump(label_binarizer,open('/content/drive/My Drive/ML Plant Dataset/labeltransform.pkl', 'wb'))\n",
        "n_classes = len(label_binarizer.classes_)\n",
        "n_classes"
      ]
    },
    {
      "cell_type": "code",
      "execution_count": 8,
      "metadata": {
        "colab": {
          "base_uri": "https://localhost:8080/"
        },
        "id": "6ZYaxMwok3oc",
        "outputId": "9f4aa4c0-01ae-45c6-fd21-a0300e22539f"
      },
      "outputs": [
        {
          "output_type": "stream",
          "name": "stdout",
          "text": [
            "['Pepper__bell___Bacterial_spot' 'Pepper__bell___healthy'\n",
            " 'Potato___Early_blight' 'Potato___Late_blight' 'Potato___healthy'\n",
            " 'Tomato_Bacterial_spot' 'Tomato_Early_blight' 'Tomato_Late_blight'\n",
            " 'Tomato_Leaf_Mold' 'Tomato_Septoria_leaf_spot'\n",
            " 'Tomato_Spider_mites_Two_spotted_spider_mite' 'Tomato__Target_Spot'\n",
            " 'Tomato__Tomato_YellowLeaf__Curl_Virus' 'Tomato__Tomato_mosaic_virus'\n",
            " 'Tomato_healthy']\n"
          ]
        }
      ],
      "source": [
        "print(label_binarizer.classes_)"
      ]
    },
    {
      "cell_type": "code",
      "execution_count": 9,
      "metadata": {
        "id": "kIKRBrhjk5a6"
      },
      "outputs": [],
      "source": [
        "numpy_image_list = np.array(image_list, dtype=np.float16) / 225.0"
      ]
    },
    {
      "cell_type": "code",
      "execution_count": 10,
      "metadata": {
        "id": "X3Scc0UAk_6n"
      },
      "outputs": [],
      "source": [
        "x_train, x_test, y_train, y_test = train_test_split(numpy_image_list, image_labels, test_size=0.2, random_state = 42) "
      ]
    },
    {
      "cell_type": "code",
      "execution_count": 11,
      "metadata": {
        "id": "Ufvypi64lNIh"
      },
      "outputs": [],
      "source": [
        "augmentation = ImageDataGenerator(\n",
        "    rotation_range=25, width_shift_range=0.1,\n",
        "    height_shift_range=0.1, shear_range=0.2, \n",
        "    zoom_range=0.2,horizontal_flip=True, \n",
        "    fill_mode=\"nearest\")"
      ]
    },
    {
      "cell_type": "code",
      "execution_count": 12,
      "metadata": {
        "id": "vdKVVIHmlQLM"
      },
      "outputs": [],
      "source": [
        "model = Sequential()\n",
        "inputShape = (height, width, depth)\n",
        "chanDim = -1\n",
        "if K.image_data_format() == \"channels_first\":\n",
        "    inputShape = (depth, height, width)\n",
        "    chanDim = 1\n",
        "model.add(Conv2D(32, (3, 3), padding=\"same\",input_shape=inputShape))\n",
        "model.add(Activation(\"relu\"))\n",
        "model.add(BatchNormalization(axis=chanDim))\n",
        "model.add(MaxPooling2D(pool_size=(3, 3)))\n",
        "model.add(Dropout(0.25))\n",
        "model.add(Conv2D(64, (3, 3), padding=\"same\"))\n",
        "model.add(Activation(\"relu\"))\n",
        "model.add(BatchNormalization(axis=chanDim))\n",
        "model.add(Conv2D(64, (3, 3), padding=\"same\"))\n",
        "model.add(Activation(\"relu\"))\n",
        "model.add(BatchNormalization(axis=chanDim))\n",
        "model.add(MaxPooling2D(pool_size=(2, 2)))\n",
        "model.add(Dropout(0.25))\n",
        "model.add(Conv2D(128, (3, 3), padding=\"same\"))\n",
        "model.add(Activation(\"relu\"))\n",
        "model.add(BatchNormalization(axis=chanDim))\n",
        "model.add(Conv2D(128, (3, 3), padding=\"same\"))\n",
        "model.add(Activation(\"relu\"))\n",
        "model.add(BatchNormalization(axis=chanDim))\n",
        "model.add(MaxPooling2D(pool_size=(2, 2)))\n",
        "model.add(Dropout(0.25))\n",
        "model.add(Flatten())\n",
        "model.add(Dense(1024))\n",
        "model.add(Activation(\"relu\"))\n",
        "model.add(BatchNormalization())\n",
        "model.add(Dropout(0.5))\n",
        "model.add(Dense(n_classes))\n",
        "model.add(Activation(\"softmax\"))"
      ]
    },
    {
      "cell_type": "code",
      "execution_count": 13,
      "metadata": {
        "colab": {
          "base_uri": "https://localhost:8080/"
        },
        "id": "dDVR-i00lSRS",
        "outputId": "4040eeec-9a29-4b9a-d5bb-709e5b8f5ec4"
      },
      "outputs": [
        {
          "output_type": "stream",
          "name": "stdout",
          "text": [
            "Model: \"sequential\"\n",
            "_________________________________________________________________\n",
            " Layer (type)                Output Shape              Param #   \n",
            "=================================================================\n",
            " conv2d (Conv2D)             (None, 256, 256, 32)      896       \n",
            "                                                                 \n",
            " activation (Activation)     (None, 256, 256, 32)      0         \n",
            "                                                                 \n",
            " batch_normalization (BatchN  (None, 256, 256, 32)     128       \n",
            " ormalization)                                                   \n",
            "                                                                 \n",
            " max_pooling2d (MaxPooling2D  (None, 85, 85, 32)       0         \n",
            " )                                                               \n",
            "                                                                 \n",
            " dropout (Dropout)           (None, 85, 85, 32)        0         \n",
            "                                                                 \n",
            " conv2d_1 (Conv2D)           (None, 85, 85, 64)        18496     \n",
            "                                                                 \n",
            " activation_1 (Activation)   (None, 85, 85, 64)        0         \n",
            "                                                                 \n",
            " batch_normalization_1 (Batc  (None, 85, 85, 64)       256       \n",
            " hNormalization)                                                 \n",
            "                                                                 \n",
            " conv2d_2 (Conv2D)           (None, 85, 85, 64)        36928     \n",
            "                                                                 \n",
            " activation_2 (Activation)   (None, 85, 85, 64)        0         \n",
            "                                                                 \n",
            " batch_normalization_2 (Batc  (None, 85, 85, 64)       256       \n",
            " hNormalization)                                                 \n",
            "                                                                 \n",
            " max_pooling2d_1 (MaxPooling  (None, 42, 42, 64)       0         \n",
            " 2D)                                                             \n",
            "                                                                 \n",
            " dropout_1 (Dropout)         (None, 42, 42, 64)        0         \n",
            "                                                                 \n",
            " conv2d_3 (Conv2D)           (None, 42, 42, 128)       73856     \n",
            "                                                                 \n",
            " activation_3 (Activation)   (None, 42, 42, 128)       0         \n",
            "                                                                 \n",
            " batch_normalization_3 (Batc  (None, 42, 42, 128)      512       \n",
            " hNormalization)                                                 \n",
            "                                                                 \n",
            " conv2d_4 (Conv2D)           (None, 42, 42, 128)       147584    \n",
            "                                                                 \n",
            " activation_4 (Activation)   (None, 42, 42, 128)       0         \n",
            "                                                                 \n",
            " batch_normalization_4 (Batc  (None, 42, 42, 128)      512       \n",
            " hNormalization)                                                 \n",
            "                                                                 \n",
            " max_pooling2d_2 (MaxPooling  (None, 21, 21, 128)      0         \n",
            " 2D)                                                             \n",
            "                                                                 \n",
            " dropout_2 (Dropout)         (None, 21, 21, 128)       0         \n",
            "                                                                 \n",
            " flatten (Flatten)           (None, 56448)             0         \n",
            "                                                                 \n",
            " dense (Dense)               (None, 1024)              57803776  \n",
            "                                                                 \n",
            " activation_5 (Activation)   (None, 1024)              0         \n",
            "                                                                 \n",
            " batch_normalization_5 (Batc  (None, 1024)             4096      \n",
            " hNormalization)                                                 \n",
            "                                                                 \n",
            " dropout_3 (Dropout)         (None, 1024)              0         \n",
            "                                                                 \n",
            " dense_1 (Dense)             (None, 15)                15375     \n",
            "                                                                 \n",
            " activation_6 (Activation)   (None, 15)                0         \n",
            "                                                                 \n",
            "=================================================================\n",
            "Total params: 58,102,671\n",
            "Trainable params: 58,099,791\n",
            "Non-trainable params: 2,880\n",
            "_________________________________________________________________\n"
          ]
        }
      ],
      "source": [
        "model.summary()"
      ]
    },
    {
      "cell_type": "code",
      "execution_count": 14,
      "metadata": {
        "id": "SBOzSppZlWPr"
      },
      "outputs": [],
      "source": [
        "model_optimizer = Adam(learning_rate=initial_learning_rate, decay=initial_learning_rate / epochs)\n",
        "model.compile(loss=\"binary_crossentropy\", optimizer=model_optimizer,metrics=[\"accuracy\"])"
      ]
    },
    {
      "cell_type": "code",
      "execution_count": 15,
      "metadata": {
        "colab": {
          "base_uri": "https://localhost:8080/"
        },
        "id": "Q_wxtQR-lZ4c",
        "outputId": "bb85cb19-f833-4172-dffd-2da4af9b4ed6"
      },
      "outputs": [
        {
          "output_type": "stream",
          "name": "stderr",
          "text": [
            "/usr/local/lib/python3.7/dist-packages/ipykernel_launcher.py:7: UserWarning: `Model.fit_generator` is deprecated and will be removed in a future version. Please use `Model.fit`, which supports generators.\n",
            "  import sys\n"
          ]
        },
        {
          "output_type": "stream",
          "name": "stdout",
          "text": [
            "Epoch 1/25\n",
            "73/73 [==============================] - 557s 8s/step - loss: 0.6140 - accuracy: 0.2370 - val_loss: 0.3187 - val_accuracy: 0.1218\n",
            "Epoch 2/25\n",
            "73/73 [==============================] - 548s 7s/step - loss: 0.2848 - accuracy: 0.3186 - val_loss: 0.6115 - val_accuracy: 0.0914\n",
            "Epoch 3/25\n",
            "73/73 [==============================] - 532s 7s/step - loss: 0.2291 - accuracy: 0.4032 - val_loss: 0.5075 - val_accuracy: 0.0626\n",
            "Epoch 4/25\n",
            "73/73 [==============================] - 516s 7s/step - loss: 0.1847 - accuracy: 0.5165 - val_loss: 0.4702 - val_accuracy: 0.1184\n",
            "Epoch 5/25\n",
            "73/73 [==============================] - 512s 7s/step - loss: 0.1561 - accuracy: 0.6161 - val_loss: 0.7311 - val_accuracy: 0.1083\n",
            "Epoch 6/25\n",
            "73/73 [==============================] - 515s 7s/step - loss: 0.1409 - accuracy: 0.6548 - val_loss: 0.3341 - val_accuracy: 0.2640\n",
            "Epoch 7/25\n",
            "73/73 [==============================] - 521s 7s/step - loss: 0.1242 - accuracy: 0.7012 - val_loss: 0.1917 - val_accuracy: 0.4839\n",
            "Epoch 8/25\n",
            "73/73 [==============================] - 518s 7s/step - loss: 0.1166 - accuracy: 0.7076 - val_loss: 0.1579 - val_accuracy: 0.5042\n",
            "Epoch 9/25\n",
            "73/73 [==============================] - 525s 7s/step - loss: 0.1068 - accuracy: 0.7441 - val_loss: 0.3331 - val_accuracy: 0.3926\n",
            "Epoch 10/25\n",
            "73/73 [==============================] - 524s 7s/step - loss: 0.1056 - accuracy: 0.7381 - val_loss: 0.1929 - val_accuracy: 0.5330\n",
            "Epoch 11/25\n",
            "73/73 [==============================] - 526s 7s/step - loss: 0.0937 - accuracy: 0.7888 - val_loss: 0.1688 - val_accuracy: 0.5871\n",
            "Epoch 12/25\n",
            "73/73 [==============================] - 545s 7s/step - loss: 0.0847 - accuracy: 0.7870 - val_loss: 0.1143 - val_accuracy: 0.6785\n",
            "Epoch 13/25\n",
            "73/73 [==============================] - 542s 7s/step - loss: 0.0830 - accuracy: 0.8094 - val_loss: 0.1967 - val_accuracy: 0.5550\n",
            "Epoch 14/25\n",
            "73/73 [==============================] - 545s 7s/step - loss: 0.0752 - accuracy: 0.8313 - val_loss: 0.2554 - val_accuracy: 0.4890\n",
            "Epoch 15/25\n",
            "73/73 [==============================] - 546s 7s/step - loss: 0.0772 - accuracy: 0.8167 - val_loss: 0.3107 - val_accuracy: 0.4738\n",
            "Epoch 16/25\n",
            "73/73 [==============================] - 539s 7s/step - loss: 0.0705 - accuracy: 0.8321 - val_loss: 0.1309 - val_accuracy: 0.6768\n",
            "Epoch 17/25\n",
            "73/73 [==============================] - 538s 7s/step - loss: 0.0698 - accuracy: 0.8463 - val_loss: 0.1676 - val_accuracy: 0.6548\n",
            "Epoch 18/25\n",
            "73/73 [==============================] - 535s 7s/step - loss: 0.0653 - accuracy: 0.8549 - val_loss: 0.2984 - val_accuracy: 0.4704\n",
            "Epoch 19/25\n",
            "73/73 [==============================] - 539s 7s/step - loss: 0.0684 - accuracy: 0.8459 - val_loss: 0.1136 - val_accuracy: 0.7411\n",
            "Epoch 20/25\n",
            "73/73 [==============================] - 540s 7s/step - loss: 0.0634 - accuracy: 0.8566 - val_loss: 0.1972 - val_accuracy: 0.5668\n",
            "Epoch 21/25\n",
            "73/73 [==============================] - 532s 7s/step - loss: 0.0572 - accuracy: 0.8682 - val_loss: 0.4040 - val_accuracy: 0.4924\n",
            "Epoch 22/25\n",
            "73/73 [==============================] - 568s 8s/step - loss: 0.0649 - accuracy: 0.8502 - val_loss: 1.4616 - val_accuracy: 0.2809\n",
            "Epoch 23/25\n",
            "73/73 [==============================] - 555s 8s/step - loss: 0.0697 - accuracy: 0.8347 - val_loss: 0.2927 - val_accuracy: 0.5381\n",
            "Epoch 24/25\n",
            "73/73 [==============================] - 558s 8s/step - loss: 0.0604 - accuracy: 0.8635 - val_loss: 0.1228 - val_accuracy: 0.6920\n",
            "Epoch 25/25\n",
            "73/73 [==============================] - 571s 8s/step - loss: 0.0541 - accuracy: 0.8785 - val_loss: 0.1195 - val_accuracy: 0.7259\n"
          ]
        }
      ],
      "source": [
        "\n",
        "history = model.fit_generator(\n",
        "    augmentation.flow(x_train, y_train, batch_size=batch_size),\n",
        "    validation_data=(x_test, y_test),\n",
        "    steps_per_epoch=len(x_train) // batch_size,\n",
        "    epochs=epochs, \n",
        "    verbose=1\n",
        "    )"
      ]
    },
    {
      "cell_type": "code",
      "execution_count": 16,
      "metadata": {
        "colab": {
          "base_uri": "https://localhost:8080/",
          "height": 545
        },
        "id": "8AhqTi5qAMwc",
        "outputId": "85432836-fc2b-4596-dbec-d9ee139d31e6"
      },
      "outputs": [
        {
          "output_type": "display_data",
          "data": {
            "image/png": "[encoded data removed]",
            "text/plain": [
              "<Figure size 432x288 with 1 Axes>"
            ]
          },
          "metadata": {
            "needs_background": "light"
          }
        },
        {
          "output_type": "display_data",
          "data": {
            "image/png": "[encoded data removed]",
            "text/plain": [
              "<Figure size 432x288 with 1 Axes>"
            ]
          },
          "metadata": {
            "needs_background": "light"
          }
        }
      ],
      "source": [
        "acc = history.history['accuracy']\n",
        "val_acc = history.history['val_accuracy']\n",
        "loss = history.history['loss']\n",
        "val_loss = history.history['val_loss']\n",
        "epochs = range(1, len(acc) + 1)\n",
        "#Train and validation accuracy\n",
        "plt.plot(epochs, acc, 'b', label='Training accurarcy')\n",
        "plt.plot(epochs, val_acc, 'r', label='Validation accurarcy')\n",
        "plt.title('Training and Validation accurarcy')\n",
        "plt.legend()\n",
        "plt.figure()\n",
        "#Train and validation loss\n",
        "plt.plot(epochs, loss, 'b', label='Training loss')\n",
        "plt.plot(epochs, val_loss, 'r', label='Validation loss')\n",
        "plt.title('Training and Validation loss')\n",
        "plt.legend()\n",
        "plt.show()"
      ]
    },
    {
      "cell_type": "code",
      "execution_count": 17,
      "metadata": {
        "colab": {
          "base_uri": "https://localhost:8080/"
        },
        "id": "sqzZUCUzAQju",
        "outputId": "104db0e5-6cc5-441c-be08-a776188d4925"
      },
      "outputs": [
        {
          "output_type": "stream",
          "name": "stdout",
          "text": [
            "Calculating model accuracy\n",
            "19/19 [==============================] - 29s 2s/step - loss: 0.1195 - accuracy: 0.7259\n",
            "Test Accuracy: 72.58883118629456\n"
          ]
        }
      ],
      "source": [
        "print(\"Calculating model accuracy\")\n",
        "scores = model.evaluate(x_test, y_test)\n",
        "print(f\"Test Accuracy: {scores[1]*100}\")"
      ]
    },
    {
      "cell_type": "code",
      "execution_count": 19,
      "metadata": {
        "colab": {
          "base_uri": "https://localhost:8080/"
        },
        "id": "jdY3vGR_A_j4",
        "outputId": "c96d0a92-f699-4f7c-b78d-7f925dc3e486"
      },
      "outputs": [
        {
          "output_type": "stream",
          "name": "stdout",
          "text": [
            "Saving model...\n",
            "INFO:tensorflow:Assets written to: ram://c0000217-b404-4f89-a1dd-a61ee6465377/assets\n"
          ]
        }
      ],
      "source": [
        "# save the model to disk\n",
        "print(\"Saving model...\")\n",
        "pickle.dump(model,open('/content/drive/My Drive/ML Plant Dataset/cnnmodel.pkl', 'wb'))"
      ]
    },
    {
      "cell_type": "code",
      "execution_count": 20,
      "metadata": {
        "id": "0ctjBu1hBX96"
      },
      "outputs": [],
      "source": [
        "loaded_model = pickle.load(open('/content/drive/My Drive/ML Plant Dataset/cnnmodel.pkl', 'rb'))"
      ]
    },
    {
      "cell_type": "code",
      "execution_count": 21,
      "metadata": {
        "id": "Oy6fSDwMBfQs"
      },
      "outputs": [],
      "source": [
        "model_disease=loaded_model"
      ]
    },
    {
      "cell_type": "code",
      "execution_count": 22,
      "metadata": {
        "id": "m6NgWJfQBkah"
      },
      "outputs": [],
      "source": [
        "image_dir=\"/content/drive/My Drive/ML Plant Dataset/predict/1.JPG\"\n",
        "im=convert_image_to_array(image_dir)\n",
        "np_image_li = np.array(im, dtype=np.float16) / 225.0\n",
        "npp_image = np.expand_dims(np_image_li, axis=0)\n"
      ]
    },
    {
      "cell_type": "code",
      "execution_count": 23,
      "metadata": {
        "colab": {
          "base_uri": "https://localhost:8080/"
        },
        "id": "1nHNHSQVBwK4",
        "outputId": "1f47f3a4-278b-4c66-b24b-28994b4a1932"
      },
      "outputs": [
        {
          "output_type": "stream",
          "name": "stdout",
          "text": [
            "[[1.6340882e-01 1.2132198e-04 3.7753858e-04 7.9603839e-01 5.4208818e-04\n",
            "  7.2089181e-04 1.0431036e-02 1.9556694e-03 1.8295511e-03 1.8079327e-02\n",
            "  8.8236097e-04 5.5091791e-03 8.8629604e-05 5.8022447e-06 9.3499411e-06]]\n"
          ]
        }
      ],
      "source": [
        "result=model_disease.predict(npp_image)\n",
        "print(result)"
      ]
    },
    {
      "cell_type": "code",
      "execution_count": 24,
      "metadata": {
        "colab": {
          "base_uri": "https://localhost:8080/"
        },
        "id": "1noy7OSxC9Wv",
        "outputId": "34272ac6-1a3d-4d07-a524-dda0dd279e0d"
      },
      "outputs": [
        {
          "output_type": "stream",
          "name": "stdout",
          "text": [
            "probability:0.7960384\n",
            "Potato___Late_blight\n"
          ]
        }
      ],
      "source": [
        "itemindex = np.where(result==np.max(result))\n",
        "print(\"probability:\"+str(np.max(result))+\"\\n\"+label_binarizer.classes_[itemindex[1][0]])"
      ]
    }
  ],
  "metadata": {
    "colab": {
      "name": "Detection of Plant Diseases.ipynb",
      "provenance": [],
      "collapsed_sections": []
    },
    "kernelspec": {
      "display_name": "Python 3",
      "name": "python3"
    },
    "language_info": {
      "name": "python"
    }
  },
  "nbformat": 4,
  "nbformat_minor": 0
}